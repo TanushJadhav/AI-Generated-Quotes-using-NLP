{
 "cells": [
  {
   "cell_type": "code",
   "execution_count": 1,
   "metadata": {},
   "outputs": [],
   "source": [
    "import pandas as pd\n",
    "import numpy as np\n",
    "import string\n",
    "\n",
    "from keras.models import model_from_json\n",
    "from keras.preprocessing.text import Tokenizer\n",
    "import keras.utils as ku\n",
    "from keras.utils import pad_sequences"
   ]
  },
  {
   "cell_type": "code",
   "execution_count": 2,
   "metadata": {},
   "outputs": [],
   "source": [
    "df = pd.read_csv('eng_quotes.csv')\n",
    "df = df[df[\"quote\"].str.contains('\\d') == False]\n",
    "quotes_list = []\n",
    "\n",
    "for i in df['quote']:\n",
    "    quotes_list.append(i)"
   ]
  },
  {
   "cell_type": "code",
   "execution_count": 3,
   "metadata": {},
   "outputs": [],
   "source": [
    "#Remove Punctuation\n",
    "def remove_punctuation(text):\n",
    "  punct = string.punctuation\n",
    "  punct = punct.replace(\"'\",\"\")\n",
    "  text = text.translate(str.maketrans(\"\", \"\",punct))\n",
    "  return text\n",
    "\n",
    "#Lowercase\n",
    "def text_lower(text):\n",
    "  text = text.lower()\n",
    "  return text\n",
    "\n",
    "cleaned_quotes = []\n",
    "for i in quotes_list:\n",
    "  text = remove_punctuation(i)\n",
    "  text = text_lower(str(text))\n",
    "  cleaned_quotes.append(text)"
   ]
  },
  {
   "cell_type": "code",
   "execution_count": 4,
   "metadata": {},
   "outputs": [
    {
     "name": "stdout",
     "output_type": "stream",
     "text": [
      "Total unique words in the text corpus: 7689\n"
     ]
    },
    {
     "data": {
      "text/plain": [
       "[[12, 59],\n",
       " [12, 59, 215],\n",
       " [12, 59, 215, 167],\n",
       " [12, 59, 215, 167, 5],\n",
       " [12, 59, 215, 167, 5, 509]]"
      ]
     },
     "execution_count": 4,
     "metadata": {},
     "output_type": "execute_result"
    }
   ],
   "source": [
    "# Tokeinization\n",
    "tokenizer = Tokenizer()\n",
    "\n",
    "# Function to create the sequences\n",
    "def generate_sequences(corpus):\n",
    "    tokenizer.fit_on_texts(corpus)\n",
    "    total_words = len(tokenizer.word_index) + 1\n",
    "    print(f\"Total unique words in the text corpus: {total_words}\")\n",
    "    input_sequences = []\n",
    "    for line in corpus:\n",
    "        seq = tokenizer.texts_to_sequences([line])[0]\n",
    "        for i in range(1, len(seq)):\n",
    "            ngram_seq = seq[:i+1]\n",
    "            input_sequences.append(ngram_seq)\n",
    "            \n",
    "    return input_sequences, total_words\n",
    "\n",
    "# Generating sequences\n",
    "input_sequences, total_words = generate_sequences(cleaned_quotes)\n",
    "input_sequences[:5]"
   ]
  },
  {
   "cell_type": "code",
   "execution_count": 5,
   "metadata": {},
   "outputs": [],
   "source": [
    "# Generating predictors and labels from the padded sequences\n",
    "def generate_input_sequence(input_sequences):\n",
    "    maxlen = max([len(x) for x in input_sequences])\n",
    "    input_sequences = pad_sequences(input_sequences, maxlen=maxlen)\n",
    "    predictors, label = input_sequences[:, :-1], input_sequences[:, -1]\n",
    "    label = ku.to_categorical(label, num_classes=total_words)\n",
    "    return predictors, label, maxlen\n",
    "\n",
    "predictors, label, maxlen = generate_input_sequence(input_sequences)"
   ]
  },
  {
   "cell_type": "code",
   "execution_count": 6,
   "metadata": {},
   "outputs": [],
   "source": [
    "file = open('eng_quote_model.json', 'r')\n",
    "loaded  = file.read()\n",
    "file.close()\n",
    "\n",
    "model = model_from_json(loaded)\n",
    "model.load_weights(\"eng_quote_model.h5\")"
   ]
  },
  {
   "cell_type": "code",
   "execution_count": 7,
   "metadata": {},
   "outputs": [],
   "source": [
    "# Text generating function\n",
    "def generate_quote(seed_text, num_words, model, maxlen):\n",
    "    \n",
    "    for _ in range(num_words):\n",
    "        tokens = tokenizer.texts_to_sequences([seed_text])[0]\n",
    "        tokens = pad_sequences([tokens], maxlen=maxlen, padding='pre')\n",
    "        \n",
    "        predicted = np.argmax(model.predict(tokens))\n",
    "        \n",
    "        output_word = ''\n",
    "        \n",
    "        for word, index in tokenizer.word_index.items():\n",
    "            if index == predicted:\n",
    "                output_word = word\n",
    "                break\n",
    "        seed_text = seed_text + \" \" + output_word\n",
    "    \n",
    "    return seed_text"
   ]
  },
  {
   "cell_type": "code",
   "execution_count": 8,
   "metadata": {},
   "outputs": [
    {
     "name": "stdout",
     "output_type": "stream",
     "text": [
      "1/1 [==============================] - 0s 385ms/step\n",
      "1/1 [==============================] - 0s 31ms/step\n",
      "1/1 [==============================] - 0s 31ms/step\n",
      "1/1 [==============================] - 0s 31ms/step\n",
      "kill your life and mine\n"
     ]
    }
   ],
   "source": [
    "print(generate_quote(\"kill\", num_words = 4, model= model, maxlen=maxlen-1))"
   ]
  },
  {
   "cell_type": "code",
   "execution_count": 14,
   "metadata": {},
   "outputs": [
    {
     "name": "stdout",
     "output_type": "stream",
     "text": [
      "1/1 [==============================] - 0s 42ms/step\n",
      "1/1 [==============================] - 0s 33ms/step\n",
      "1/1 [==============================] - 0s 33ms/step\n",
      "1/1 [==============================] - 0s 41ms/step\n",
      "1/1 [==============================] - 0s 32ms/step\n",
      "suicude is the handmaiden of creativity\n"
     ]
    }
   ],
   "source": [
    "print(generate_quote(\"suicude\", num_words = 5, model= model, maxlen=maxlen-1))"
   ]
  },
  {
   "cell_type": "code",
   "execution_count": 21,
   "metadata": {},
   "outputs": [
    {
     "name": "stdout",
     "output_type": "stream",
     "text": [
      "1/1 [==============================] - 0s 40ms/step\n",
      "1/1 [==============================] - 0s 30ms/step\n",
      "1/1 [==============================] - 0s 30ms/step\n",
      "happy does not exist\n"
     ]
    }
   ],
   "source": [
    "print(generate_quote(\"happy\", num_words = 3, model= model, maxlen=maxlen-1))"
   ]
  },
  {
   "cell_type": "code",
   "execution_count": 12,
   "metadata": {},
   "outputs": [
    {
     "name": "stdout",
     "output_type": "stream",
     "text": [
      "1/1 [==============================] - 0s 51ms/step\n",
      "1/1 [==============================] - 0s 37ms/step\n",
      "1/1 [==============================] - 0s 40ms/step\n",
      "1/1 [==============================] - 0s 38ms/step\n",
      "1/1 [==============================] - 0s 29ms/step\n",
      "1/1 [==============================] - 0s 34ms/step\n",
      "1/1 [==============================] - 0s 35ms/step\n",
      "passion is a pesky part of being human\n"
     ]
    }
   ],
   "source": [
    "print(generate_quote(\"passion\", num_words = 7, model= model, maxlen=maxlen-1))"
   ]
  },
  {
   "cell_type": "code",
   "execution_count": 37,
   "metadata": {},
   "outputs": [
    {
     "name": "stdout",
     "output_type": "stream",
     "text": [
      "1/1 [==============================] - 0s 53ms/step\n",
      "1/1 [==============================] - 0s 48ms/step\n",
      "1/1 [==============================] - 0s 44ms/step\n",
      "1/1 [==============================] - 0s 51ms/step\n",
      "1/1 [==============================] - 0s 27ms/step\n",
      "love is the key to life\n"
     ]
    }
   ],
   "source": [
    "print(generate_quote(\"love\", num_words = 5, model= model, maxlen=maxlen-1))"
   ]
  },
  {
   "cell_type": "code",
   "execution_count": 14,
   "metadata": {},
   "outputs": [
    {
     "name": "stdout",
     "output_type": "stream",
     "text": [
      "1/1 [==============================] - 0s 43ms/step\n",
      "1/1 [==============================] - 0s 43ms/step\n",
      "1/1 [==============================] - 0s 52ms/step\n",
      "1/1 [==============================] - 0s 31ms/step\n",
      "1/1 [==============================] - 0s 33ms/step\n",
      "1/1 [==============================] - 0s 28ms/step\n",
      "1/1 [==============================] - 0s 35ms/step\n",
      "1/1 [==============================] - 0s 31ms/step\n",
      "1/1 [==============================] - 0s 32ms/step\n",
      "1/1 [==============================] - 0s 31ms/step\n",
      "1/1 [==============================] - 0s 35ms/step\n",
      "1/1 [==============================] - 0s 32ms/step\n",
      "1/1 [==============================] - 0s 33ms/step\n",
      "Beauty is not the absence of problems it's the ability to deal with them\n"
     ]
    }
   ],
   "source": [
    "print(generate_quote(\"Beauty\", num_words = 13, model= model, maxlen=maxlen-1))"
   ]
  },
  {
   "cell_type": "code",
   "execution_count": null,
   "metadata": {},
   "outputs": [],
   "source": []
  }
 ],
 "metadata": {
  "kernelspec": {
   "display_name": "Python 3",
   "language": "python",
   "name": "python3"
  },
  "language_info": {
   "codemirror_mode": {
    "name": "ipython",
    "version": 3
   },
   "file_extension": ".py",
   "mimetype": "text/x-python",
   "name": "python",
   "nbconvert_exporter": "python",
   "pygments_lexer": "ipython3",
   "version": "3.11.4"
  }
 },
 "nbformat": 4,
 "nbformat_minor": 2
}
